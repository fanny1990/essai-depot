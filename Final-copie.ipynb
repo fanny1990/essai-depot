{
 "cells": [
  {
   "cell_type": "markdown",
   "metadata": {},
   "source": [
    "####  Sliders connectés qui permettent de fluctuer la quantité totale d'eau consommée par année (dam3) basée sur le scénario 2017"
   ]
  },
  {
   "cell_type": "code",
   "execution_count": 5,
   "metadata": {},
   "outputs": [
    {
     "data": {
      "text/html": [
       "        <script type=\"text/javascript\">\n",
       "        window.PlotlyConfig = {MathJaxConfig: 'local'};\n",
       "        if (window.MathJax) {MathJax.Hub.Config({SVG: {font: \"STIX-Web\"}});}\n",
       "        if (typeof require !== 'undefined') {\n",
       "        require.undef(\"plotly\");\n",
       "        requirejs.config({\n",
       "            paths: {\n",
       "                'plotly': ['https://cdn.plot.ly/plotly-latest.min']\n",
       "            }\n",
       "        });\n",
       "        require(['plotly'], function(Plotly) {\n",
       "            window._Plotly = Plotly;\n",
       "        });\n",
       "        }\n",
       "        </script>\n",
       "        "
      ]
     },
     "metadata": {},
     "output_type": "display_data"
    },
    {
     "data": {
      "application/vnd.jupyter.widget-view+json": {
       "model_id": "5d34c7675f6242f28c1b1b6cee680663",
       "version_major": 2,
       "version_minor": 0
      },
      "text/plain": [
       "HBox(children=(VBox(children=(IntSlider(value=1933, description='S. primaire', max=4000), IntSlider(value=2238…"
      ]
     },
     "metadata": {},
     "output_type": "display_data"
    }
   ],
   "source": [
    "import ipywidgets as widgets\n",
    "from ipywidgets import *\n",
    "import plotly.express as px\n",
    "import plotly.graph_objs as go\n",
    "import plotly as py\n",
    "from plotly.offline import init_notebook_mode, iplot\n",
    "init_notebook_mode(connected=True)\n",
    "\n",
    "a = widgets.IntSlider(value=1933, min=0, max =4000, description='S. primaire')\n",
    "b = widgets.IntSlider(value= 2238,min=0, max =4000, description='S. secondaire')\n",
    "c = widgets.IntSlider(value=202,min=0, max =1000,description='Aéroport')\n",
    "d = widgets.IntSlider(value=12794,min=0, max =20000,description='S. tertiaire')\n",
    "def f(a, b, c, d):\n",
    "    print('Quantité hydraulique (dam3) consommée par année pour le canton de Genève ={}'.format(a+b+c+d))\n",
    "\n",
    "out = widgets.interactive_output(f, {'a': a, 'b': b, 'c': c, 'd':d})\n",
    "\n",
    "widgets.HBox([widgets.VBox ([a, b, c, d]),out])"
   ]
  },
  {
   "cell_type": "markdown",
   "metadata": {},
   "source": [
    "### Fluctuations de l'activité humaine du scénario 1 dans le secteur tertiaire si une modification de la loi du travail se faisait sur 3 domaines (heures travaillées par jours, congés par an et capacité de travail (ETP)) "
   ]
  },
  {
   "cell_type": "code",
   "execution_count": 4,
   "metadata": {},
   "outputs": [
    {
     "data": {
      "text/html": [
       "        <script type=\"text/javascript\">\n",
       "        window.PlotlyConfig = {MathJaxConfig: 'local'};\n",
       "        if (window.MathJax) {MathJax.Hub.Config({SVG: {font: \"STIX-Web\"}});}\n",
       "        if (typeof require !== 'undefined') {\n",
       "        require.undef(\"plotly\");\n",
       "        requirejs.config({\n",
       "            paths: {\n",
       "                'plotly': ['https://cdn.plot.ly/plotly-latest.min']\n",
       "            }\n",
       "        });\n",
       "        require(['plotly'], function(Plotly) {\n",
       "            window._Plotly = Plotly;\n",
       "        });\n",
       "        }\n",
       "        </script>\n",
       "        "
      ]
     },
     "metadata": {},
     "output_type": "display_data"
    },
    {
     "data": {
      "application/vnd.jupyter.widget-view+json": {
       "model_id": "9cf02c5a1bac493baf0c87216b70e4ac",
       "version_major": 2,
       "version_minor": 0
      },
      "text/plain": [
       "HBox(children=(VBox(children=(IntSlider(value=41, description='h/semaine', max=50, min=30), IntSlider(value=35…"
      ]
     },
     "metadata": {},
     "output_type": "display_data"
    }
   ],
   "source": [
    "import ipywidgets as widgets\n",
    "from ipywidgets import *\n",
    "import plotly.express as px\n",
    "import plotly.graph_objs as go\n",
    "import plotly as py\n",
    "from plotly.offline import init_notebook_mode, iplot\n",
    "init_notebook_mode(connected=True)\n",
    "\n",
    "a = widgets.IntSlider(value=41, min=30, max =50, description='h/semaine')\n",
    "b = widgets.IntSlider(value=35, min=25, max =50, description='congés/an')\n",
    "c = widgets.IntSlider(value=346490, min=300000, max =400000, description='ETP')\n",
    "\n",
    "def f(a,b,c):\n",
    "\n",
    "    print('Activité humaine par année secteur tertiaire = '.format(b),(((c * a )/7)*(365-b)/1000000))\n",
    "\n",
    "out = widgets.interactive_output(f, {'a': a, 'b':b, 'c':c})\n",
    "\n",
    "widgets.HBox([widgets.VBox ([ a,b,c]), out])"
   ]
  },
  {
   "cell_type": "markdown",
   "metadata": {},
   "source": [
    "### repercussion de l'activité humaine du secteur tertiaire sur les différents domaines énergétiques et l'eau du scénario 1"
   ]
  },
  {
   "cell_type": "code",
   "execution_count": 3,
   "metadata": {},
   "outputs": [
    {
     "data": {
      "text/html": [
       "        <script type=\"text/javascript\">\n",
       "        window.PlotlyConfig = {MathJaxConfig: 'local'};\n",
       "        if (window.MathJax) {MathJax.Hub.Config({SVG: {font: \"STIX-Web\"}});}\n",
       "        if (typeof require !== 'undefined') {\n",
       "        require.undef(\"plotly\");\n",
       "        requirejs.config({\n",
       "            paths: {\n",
       "                'plotly': ['https://cdn.plot.ly/plotly-latest.min']\n",
       "            }\n",
       "        });\n",
       "        require(['plotly'], function(Plotly) {\n",
       "            window._Plotly = Plotly;\n",
       "        });\n",
       "        }\n",
       "        </script>\n",
       "        "
      ]
     },
     "metadata": {},
     "output_type": "display_data"
    },
    {
     "data": {
      "application/vnd.jupyter.widget-view+json": {
       "model_id": "f223c848d0a84306b137c5fa742add4f",
       "version_major": 2,
       "version_minor": 0
      },
      "text/plain": [
       "interactive(children=(IntSlider(value=41, description='h/semaine', max=50, min=30), IntSlider(value=35, descri…"
      ]
     },
     "metadata": {},
     "output_type": "display_data"
    }
   ],
   "source": [
    "import ipywidgets as widgets\n",
    "from ipywidgets import *\n",
    "import plotly.express as px\n",
    "import plotly.graph_objs as go\n",
    "import plotly as py\n",
    "from plotly.offline import init_notebook_mode, iplot\n",
    "init_notebook_mode(connected=True)\n",
    "\n",
    "a = widgets.IntSlider(value=41, min=30, max =50, description='h/semaine')\n",
    "b = widgets.IntSlider(value=35, min=25, max =50, description='congés/an')\n",
    "c = widgets.IntSlider(value=346490, min=300000, max =400000, description='ETP')\n",
    "\n",
    "def ha(a,b,c):\n",
    "    data = [go.Bar(\n",
    "                x=['Electricité', 'Gaz','Pétrole', 'Eau'],\n",
    "                y=[2108/(((c * a )/7)*(365-b)/1000000), 1533/(((c * a )/7)*(365-b)/1000000), 5556/(((c * a )/7)*(365-b)/1000000)\n",
    "                   , 20155/(((c * a )/7)*(365-b)/1000000)],\n",
    "                hovertext=['Intensité de consommation en électricité: kWh par heure', 'Intensité de consommation de gaz en MJ par heure',\n",
    "                           'Intensité de consommation du pétrole en MJ par heure','Intensité de consommation en eau en L par heure'],\n",
    "               \n",
    "     \n",
    "    )]\n",
    "    iplot(data, show_link=False,)\n",
    "\n",
    "def f(a,b,c):\n",
    "\n",
    "    print('Activité humaine par année secteur tertiaire = '.format(b),(((c * a )/7)*(365-b)/1000000))\n",
    "\n",
    "out = widgets.interactive_output(f, {'a': a, 'b':b, 'c':c})\n",
    "\n",
    "widgets.HBox([widgets.VBox ([ a,b,c]), out])\n",
    "\n",
    "widgets.interactive( ha, a=a, b=b, c=c)\n",
    "\n"
   ]
  },
  {
   "cell_type": "markdown",
   "metadata": {},
   "source": [
    " ### Fluctuations des énergies et de l'eau du secteur secondaire (scénario 1)\n"
   ]
  },
  {
   "cell_type": "code",
   "execution_count": 2,
   "metadata": {},
   "outputs": [
    {
     "data": {
      "text/html": [
       "        <script type=\"text/javascript\">\n",
       "        window.PlotlyConfig = {MathJaxConfig: 'local'};\n",
       "        if (window.MathJax) {MathJax.Hub.Config({SVG: {font: \"STIX-Web\"}});}\n",
       "        if (typeof require !== 'undefined') {\n",
       "        require.undef(\"plotly\");\n",
       "        requirejs.config({\n",
       "            paths: {\n",
       "                'plotly': ['https://cdn.plot.ly/plotly-latest.min']\n",
       "            }\n",
       "        });\n",
       "        require(['plotly'], function(Plotly) {\n",
       "            window._Plotly = Plotly;\n",
       "        });\n",
       "        }\n",
       "        </script>\n",
       "        "
      ]
     },
     "metadata": {},
     "output_type": "display_data"
    },
    {
     "data": {
      "application/vnd.jupyter.widget-view+json": {
       "model_id": "e0405343bfc7463f91842f761bcb90c3",
       "version_major": 2,
       "version_minor": 0
      },
      "text/plain": [
       "interactive(children=(IntSlider(value=85, description='HA', max=620, min=1), Output()), _dom_classes=('widget-…"
      ]
     },
     "metadata": {},
     "output_type": "display_data"
    }
   ],
   "source": [
    "import ipywidgets as widgets\n",
    "from ipywidgets import *\n",
    "import plotly.express as px\n",
    "import plotly.graph_objs as go\n",
    "import plotly as py\n",
    "from plotly.offline import init_notebook_mode, iplot\n",
    "init_notebook_mode(connected=True)\n",
    "\n",
    "\n",
    "def ha(x):\n",
    "    data = [go.Bar(\n",
    "                x=['Electricité', 'Gaz','Pétrole', 'Eau',],\n",
    "                y=[389/x, 2019/x, 201/x, 2238/x],\n",
    "                hovertext=['Intensité de consommation en électricité: kWh par heure', 'Intensité de consommation de gaz en MJ par heure',\n",
    "                           'Intensité de consommation du pétrole en MJ par heure','Intensité de consommation en eau en L par heure'],\n",
    "               \n",
    "     \n",
    "    )]\n",
    "    iplot(data, show_link=False,)\n",
    "\n",
    " \n",
    "    \n",
    "x = widgets.IntSlider(min=1, max=620, value=85, description = \"HA\") \n",
    "\n",
    "\n",
    "widgets.interactive( ha, x=x)\n"
   ]
  },
  {
   "cell_type": "markdown",
   "metadata": {},
   "source": [
    "### Modification du graphique du dessus pour pouvoir y intégrer les HA du secteur primaire,  secondaire et tertiaire"
   ]
  },
  {
   "cell_type": "code",
   "execution_count": 1,
   "metadata": {},
   "outputs": [
    {
     "data": {
      "text/html": [
       "        <script type=\"text/javascript\">\n",
       "        window.PlotlyConfig = {MathJaxConfig: 'local'};\n",
       "        if (window.MathJax) {MathJax.Hub.Config({SVG: {font: \"STIX-Web\"}});}\n",
       "        if (typeof require !== 'undefined') {\n",
       "        require.undef(\"plotly\");\n",
       "        requirejs.config({\n",
       "            paths: {\n",
       "                'plotly': ['https://cdn.plot.ly/plotly-latest.min']\n",
       "            }\n",
       "        });\n",
       "        require(['plotly'], function(Plotly) {\n",
       "            window._Plotly = Plotly;\n",
       "        });\n",
       "        }\n",
       "        </script>\n",
       "        "
      ]
     },
     "metadata": {},
     "output_type": "display_data"
    },
    {
     "data": {
      "application/vnd.jupyter.widget-view+json": {
       "model_id": "6af82c0467844916b5db05cc346f330a",
       "version_major": 2,
       "version_minor": 0
      },
      "text/plain": [
       "interactive(children=(IntSlider(value=85, description='HA sec', max=620, min=1), IntSlider(value=514, descript…"
      ]
     },
     "metadata": {},
     "output_type": "display_data"
    }
   ],
   "source": [
    "import ipywidgets as widgets\n",
    "from ipywidgets import *\n",
    "import plotly.express as px\n",
    "import plotly.graph_objs as go\n",
    "import plotly as py\n",
    "from plotly.offline import init_notebook_mode, iplot\n",
    "init_notebook_mode(connected=True)\n",
    "\n",
    "def plot(b,a,c):\n",
    "   \n",
    "    bar = go.Bar(\n",
    "        x=['Electricité', 'Gaz','Pétrole', 'Eau', 'EJP'],\n",
    "        y=[389/b, 2019/b, 201/b, 2238/b, 7391/b],\n",
    "        name='Consommation intensive secteur secondaire',\n",
    "        marker_color='pink',\n",
    "        hovertext=['Intensité de consommation en électricité: kWh par heure', 'Intensité de consommation de gaz en MJ par heure',\n",
    "                           'Intensité de consommation du pétrole en MJ par heure','Intensité de consommation en eau en L par heure'\n",
    "                  ,'productivité économique en CHF/h'],\n",
    "            \n",
    "    )  \n",
    "    bar1= go.Bar(\n",
    "        x=['Electricité', 'Gaz','Pétrole', 'Eau','EJP'],\n",
    "        y=[1314/a, 958/a, 3165/a, 12794/a,34226/a], \n",
    "        name= ' Consommation intensive secteur tertaire',\n",
    "        marker_color='grey',\n",
    "        hovertext=['Intensité de consommation en électricité: kWh par heure', 'Intensité de consommation de gaz en MJ par heure',\n",
    "                   'Intensité de consommation du pétrole en MJ par heure','Intensité de consommation en eau en L par heure'\n",
    "                  ,'productivité économique en CHF/h']\n",
    "     \n",
    "    \n",
    "            \n",
    "    )\n",
    "       \n",
    "    bar2= go.Bar(\n",
    "        x=['Electricité', 'Gaz','Pétrole', 'Eau','EJP'],\n",
    "        y=[8/c, 207/c, 72/c, 1933/c,125/c], \n",
    "        name= ' Consommation intensive secteur primaire',\n",
    "        marker_color='lightgreen',\n",
    "        hovertext=['Intensité de consommation en électricité: kWh par heure', 'Intensité de consommation de gaz en MJ par heure',\n",
    "                   'Intensité de consommation du pétrole en MJ par heure','Intensité de consommation en eau en L par heure'\n",
    "                  ,'productivité économique en CHF/h']\n",
    "    )  \n",
    "    data= [bar2, bar, bar1]\n",
    "    \n",
    "    \n",
    "    iplot(data, show_link=False)\n",
    "    \n",
    "c= widgets.FloatSlider(min=1, max= 200, value=2.5, description = \"HA prim\")                           \n",
    "b= widgets.IntSlider(min=1, max=620, value=85, description = \"HA sec\") \n",
    "a= widgets.IntSlider(min=1, max=620, value=514, description = \"HA tert\")\n",
    "\n",
    "\n",
    "widgets.interactive(plot, c=c,b=b, a=a)\n",
    "\n",
    "\n",
    "\n"
   ]
  },
  {
   "cell_type": "code",
   "execution_count": null,
   "metadata": {},
   "outputs": [],
   "source": []
  }
 ],
 "metadata": {
  "kernelspec": {
   "display_name": "Python 3",
   "language": "python",
   "name": "python3"
  },
  "language_info": {
   "codemirror_mode": {
    "name": "ipython",
    "version": 3
   },
   "file_extension": ".py",
   "mimetype": "text/x-python",
   "name": "python",
   "nbconvert_exporter": "python",
   "pygments_lexer": "ipython3",
   "version": "3.7.6"
  },
  "toc": {
   "base_numbering": 1,
   "nav_menu": {},
   "number_sections": false,
   "sideBar": false,
   "skip_h1_title": false,
   "title_cell": "Table of Contents",
   "title_sidebar": "Contents",
   "toc_cell": false,
   "toc_position": {},
   "toc_section_display": false,
   "toc_window_display": false
  }
 },
 "nbformat": 4,
 "nbformat_minor": 4
}
